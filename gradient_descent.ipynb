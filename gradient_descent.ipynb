{
 "cells": [
  {
   "cell_type": "code",
   "execution_count": 10,
   "metadata": {},
   "outputs": [
    {
     "name": "stdout",
     "output_type": "stream",
     "text": [
      "prediction before training:  4.0 4.0\n",
      "\tgrad:  1.0 2.0 -2.0\n",
      "\tgrad:  2.0 4.0 -7.84\n",
      "\tgrad:  3.0 6.0 -16.23\n",
      "progress:  0 \tw:  1.26 \tloss:  4.92\n",
      "\tgrad:  1.0 2.0 -1.48\n",
      "\tgrad:  2.0 4.0 -5.8\n",
      "\tgrad:  3.0 6.0 -12.0\n",
      "progress:  1 \tw:  1.45 \tloss:  2.69\n",
      "\tgrad:  1.0 2.0 -1.09\n",
      "\tgrad:  2.0 4.0 -4.29\n",
      "\tgrad:  3.0 6.0 -8.87\n",
      "progress:  2 \tw:  1.6 \tloss:  1.47\n",
      "\tgrad:  1.0 2.0 -0.81\n",
      "\tgrad:  2.0 4.0 -3.17\n",
      "\tgrad:  3.0 6.0 -6.56\n",
      "progress:  3 \tw:  1.7 \tloss:  0.8\n",
      "\tgrad:  1.0 2.0 -0.6\n",
      "\tgrad:  2.0 4.0 -2.34\n",
      "\tgrad:  3.0 6.0 -4.85\n",
      "progress:  4 \tw:  1.78 \tloss:  0.44\n",
      "\tgrad:  1.0 2.0 -0.44\n",
      "\tgrad:  2.0 4.0 -1.73\n",
      "\tgrad:  3.0 6.0 -3.58\n",
      "progress:  5 \tw:  1.84 \tloss:  0.24\n",
      "\tgrad:  1.0 2.0 -0.33\n",
      "\tgrad:  2.0 4.0 -1.28\n",
      "\tgrad:  3.0 6.0 -2.65\n",
      "progress:  6 \tw:  1.88 \tloss:  0.13\n",
      "\tgrad:  1.0 2.0 -0.24\n",
      "\tgrad:  2.0 4.0 -0.95\n",
      "\tgrad:  3.0 6.0 -1.96\n",
      "progress:  7 \tw:  1.91 \tloss:  0.07\n",
      "\tgrad:  1.0 2.0 -0.18\n",
      "\tgrad:  2.0 4.0 -0.7\n",
      "\tgrad:  3.0 6.0 -1.45\n",
      "progress:  8 \tw:  1.93 \tloss:  0.04\n",
      "\tgrad:  1.0 2.0 -0.13\n",
      "\tgrad:  2.0 4.0 -0.52\n",
      "\tgrad:  3.0 6.0 -1.07\n",
      "progress:  9 \tw:  1.95 \tloss:  0.02\n",
      "\tgrad:  1.0 2.0 -0.1\n",
      "\tgrad:  2.0 4.0 -0.38\n",
      "\tgrad:  3.0 6.0 -0.79\n",
      "progress:  10 \tw:  1.96 \tloss:  0.01\n",
      "\tgrad:  1.0 2.0 -0.07\n",
      "\tgrad:  2.0 4.0 -0.28\n",
      "\tgrad:  3.0 6.0 -0.59\n",
      "progress:  11 \tw:  1.97 \tloss:  0.01\n",
      "prediction after training:  7.893342093164397\n"
     ]
    }
   ],
   "source": [
    "x_data = [1.0,2.0,3.0]\n",
    "y_data = [2.0,4.0,6.0]\n",
    "\n",
    "w = 1.0\n",
    "\n",
    "def forward(x):\n",
    "    return x*w\n",
    "\n",
    "def loss(x,y):\n",
    "    y_predict = forward(x)\n",
    "    return (y_predict-y)**2\n",
    "\n",
    "def gradient(x,y):\n",
    "    return 2*x*(x*w-y)\n",
    "\n",
    "print(\"prediction before training: \", 4.0, forward(4))\n",
    "\n",
    "# train\n",
    "for epoch in range(12):\n",
    "    for x_val, y_val in zip(x_data, y_data):\n",
    "        grad = gradient(x_val, y_val)\n",
    "        w = w-0.01*grad\n",
    "        print(\"\\tgrad: \", x_val, y_val, round(grad, 2))\n",
    "        l = loss(x_val, y_val)\n",
    "    print(\"progress: \", epoch, \"\\tw: \", round(w, 2), \"\\tloss: \", round(l, 2))\n",
    "print(\"prediction after training: \", forward(4))"
   ]
  },
  {
   "cell_type": "code",
   "execution_count": null,
   "metadata": {},
   "outputs": [],
   "source": []
  }
 ],
 "metadata": {
  "kernelspec": {
   "display_name": "Python 3",
   "language": "python",
   "name": "python3"
  },
  "language_info": {
   "codemirror_mode": {
    "name": "ipython",
    "version": 3
   },
   "file_extension": ".py",
   "mimetype": "text/x-python",
   "name": "python",
   "nbconvert_exporter": "python",
   "pygments_lexer": "ipython3",
   "version": "3.7.3"
  }
 },
 "nbformat": 4,
 "nbformat_minor": 2
}
